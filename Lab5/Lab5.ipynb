{
 "cells": [
  {
   "cell_type": "code",
   "execution_count": 2,
   "metadata": {},
   "outputs": [],
   "source": [
    "import numpy as np\n",
    "import pandas as pd\n",
    "import matplotlib.pyplot as plt\n",
    "import scipy.stats as stats"
   ]
  },
  {
   "cell_type": "code",
   "execution_count": 3,
   "metadata": {},
   "outputs": [
    {
     "name": "stdout",
     "output_type": "stream",
     "text": [
      "2.894\n"
     ]
    }
   ],
   "source": [
    "#Q2 The average height of 12 year olds is known to be 149.8cm, with standard deviation 12.3cm. You believe that 12 year olds in Ireland are taller than average and wish to test this hypothesis. You take a sample of 30 12 year olds and find their mean height is 156.3cm. Compute the z-score. (Round to 3 decimal places)\n",
    "xbar=156.3\n",
    "mu=149.8\n",
    "sigma=12.3\n",
    "n=30\n",
    "z=(xbar-mu)/(sigma/np.sqrt(n))\n",
    "print(round(z,3))"
   ]
  },
  {
   "cell_type": "code",
   "execution_count": 7,
   "metadata": {},
   "outputs": [
    {
     "data": {
      "text/plain": [
       "True"
      ]
     },
     "execution_count": 7,
     "metadata": {},
     "output_type": "execute_result"
    }
   ],
   "source": [
    "#NOTE this question has a few errors and I'm answering it based on the email I received from the lecturer\n",
    "#Q3 The average height of 12 year olds is known to be 149.8kg. You believe that average height of 12 year olds in Ireland has changed and wish to test this hypothesis. You take a sample of 10 year olds, compute their mean height and find the following z-score z=2.12. Compute the p-value and determine whether the average weight of 12 year olds has changed or not. (Use α=0.05)\n",
    "mu = 149.8\n",
    "z = 2.12\n",
    "#Asking whether it has changed or nor implies a two tailed test\n",
    "prob=2*(1-stats.norm.cdf(z))\n",
    "alpha = 0.05\n",
    "prob<alpha # Reject if p is less than alpha"
   ]
  },
  {
   "cell_type": "code",
   "execution_count": 8,
   "metadata": {},
   "outputs": [
    {
     "data": {
      "text/plain": [
       "False"
      ]
     },
     "execution_count": 8,
     "metadata": {},
     "output_type": "execute_result"
    }
   ],
   "source": [
    "#Q4 To test the hypothesis that eating fish makes one smarter, a random sample of 12 people take a fish oil supplement for one year and then are given an IQ test. After taking fish supplements for one year their IQ's are as follows:\n",
    "#Perform a t-test to assess whether their IQ was greater than average (average IQ is 100). What do you conclude? (Use α=0.05 )\n",
    "X = [106, 111, 101, 110, 99, 94, 106, 95, 121, 101, 110, 92]\n",
    "xbar = np.mean(X)\n",
    "s=np.std(X,ddof=1)\n",
    "mu = 100\n",
    "n=12\n",
    "t = (xbar-mu)/(s/np.sqrt(n))\n",
    "alpha = 0.05\n",
    "# upper tailed test\n",
    "prob=stats.t.cdf(t,n-1)\n",
    "prob<alpha"
   ]
  },
  {
   "cell_type": "code",
   "execution_count": 11,
   "metadata": {},
   "outputs": [
    {
     "data": {
      "text/plain": [
       "True"
      ]
     },
     "execution_count": 11,
     "metadata": {},
     "output_type": "execute_result"
    }
   ],
   "source": [
    "#Q5 A company manufacturing diet pills wants to test the effectiveness of their product. They set up a clinical trial and give 15 participants the diet pill and 10 participants a placebo. The weight loss (in kg) for each participant is as follow:\n",
    "# Perform a two sample t-test to assess whether the drug affects weight loss. What do you conclude? (Use α=0.05 )\n",
    "drug = [2, 16, 10, 9, 15, 3, 8, 9, 0, 7, 5, 12]\n",
    "placebo = [5, 0, 4, 9, 1, 1, 2, 0, 6, 7]\n",
    "ttest2=stats.ttest_ind(drug,placebo)\n",
    "ttest2\n",
    "pvalue=0.022374344667603113\n",
    "alpha = 0.05\n",
    "pvalue<alpha"
   ]
  },
  {
   "cell_type": "code",
   "execution_count": 4,
   "metadata": {},
   "outputs": [
    {
     "data": {
      "text/plain": [
       "144.96454690000002"
      ]
     },
     "execution_count": 4,
     "metadata": {},
     "output_type": "execute_result"
    }
   ],
   "source": [
    "#Q6 For the height versus weight data considered in the lab sheet, can we use the fitted regression line to predict the weight of someone who is 130cm?\n",
    "df=pd.read_csv('height-weight.csv')\n",
    "df['Height'].min() # Hence 130 is not within range"
   ]
  },
  {
   "cell_type": "code",
   "execution_count": 30,
   "metadata": {},
   "outputs": [
    {
     "data": {
      "text/plain": [
       "Text(0, 0.5, 'Frequency')"
      ]
     },
     "execution_count": 30,
     "metadata": {},
     "output_type": "execute_result"
    },
    {
     "data": {
      "image/png": "[encoded data removed]",
      "text/plain": [
       "<Figure size 432x288 with 1 Axes>"
      ]
     },
     "metadata": {
      "needs_background": "light"
     },
     "output_type": "display_data"
    }
   ],
   "source": [
    "#Q7 For the height versus weight data considered in the lab sheet, is the distribution of residuals approximately normal?\n",
    "residuals=model.resid\n",
    "plt.figure()\n",
    "plt.hist(residuals)\n",
    "plt.axis([-20,20,0,20])\n",
    "plt.xlabel('Residuals')\n",
    "plt.ylabel('Frequency')"
   ]
  },
  {
   "cell_type": "code",
   "execution_count": 31,
   "metadata": {},
   "outputs": [
    {
     "data": {
      "text/plain": [
       "2.1884716261411086e-14"
      ]
     },
     "execution_count": 31,
     "metadata": {},
     "output_type": "execute_result"
    }
   ],
   "source": [
    "#Q8 For the height versus weight data considered in the lab sheet, is the distribution of residuals approximately normal?\n",
    "residuals.mean()\n",
    "# The e-14 means it's a really really small fraction"
   ]
  },
  {
   "cell_type": "code",
   "execution_count": 6,
   "metadata": {},
   "outputs": [
    {
     "data": {
      "text/plain": [
       "0    41345.311456\n",
       "dtype: float64"
      ]
     },
     "execution_count": 6,
     "metadata": {},
     "output_type": "execute_result"
    },
    {
     "data": {
      "image/png": "[encoded data removed]",
      "text/plain": [
       "<Figure size 432x288 with 1 Axes>"
      ]
     },
     "metadata": {
      "needs_background": "light"
     },
     "output_type": "display_data"
    }
   ],
   "source": [
    "#Q9 For the cars dataset, can we use the fitted regression line to predict the recommended retail price of a car whose miles per gallon is 35?\n",
    "df=pd.read_csv('cars.csv')\n",
    "plt.scatter(df.MPG,df.Price)\n",
    "plt.xlabel('Miles per gallon')\n",
    "plt.ylabel('price')\n",
    "import statsmodels.formula.api as smf\n",
    "model=smf.ols(formula='Price~MPG',data=df).fit()\n",
    "predict = model.predict({'MPG':35})\n",
    "predict # Hence we can as 35 lies within the range of values of MPG that we collected"
   ]
  },
  {
   "cell_type": "code",
   "execution_count": 5,
   "metadata": {},
   "outputs": [
    {
     "data": {
      "text/plain": [
       "1.0822986951097846e-11"
      ]
     },
     "execution_count": 5,
     "metadata": {},
     "output_type": "execute_result"
    }
   ],
   "source": [
    "#Q10 For the cars dataset, do the residuals have a mean of roughly zero? \n",
    "residuals=model.resid\n",
    "residuals.mean()"
   ]
  },
  {
   "cell_type": "code",
   "execution_count": 7,
   "metadata": {},
   "outputs": [
    {
     "data": {
      "text/plain": [
       "Text(0, 0.5, 'Frequency')"
      ]
     },
     "execution_count": 7,
     "metadata": {},
     "output_type": "execute_result"
    },
    {
     "data": {
      "image/png": "[encoded data removed]",
      "text/plain": [
       "<Figure size 432x288 with 1 Axes>"
      ]
     },
     "metadata": {
      "needs_background": "light"
     },
     "output_type": "display_data"
    },
    {
     "data": {
      "image/png": "[encoded data removed]",
      "text/plain": [
       "<Figure size 432x288 with 1 Axes>"
      ]
     },
     "metadata": {
      "needs_background": "light"
     },
     "output_type": "display_data"
    }
   ],
   "source": [
    "#Q11 For the cars dataset, can we conclude that the model assumptions are true from the histogram and scatterplot of residuals?\n",
    "plt.figure()\n",
    "plt.scatter(df.MPG,residuals)\n",
    "plt.xlabel('Residuals')\n",
    "plt.ylabel('Frequency')\n",
    "plt.figure()\n",
    "plt.hist(residuals)\n",
    "plt.xlabel('Residuals')\n",
    "plt.ylabel('Frequency')"
   ]
  },
  {
   "cell_type": "code",
   "execution_count": 11,
   "metadata": {},
   "outputs": [
    {
     "data": {
      "text/html": [
       "<div>\n",
       "<style scoped>\n",
       "    .dataframe tbody tr th:only-of-type {\n",
       "        vertical-align: middle;\n",
       "    }\n",
       "\n",
       "    .dataframe tbody tr th {\n",
       "        vertical-align: top;\n",
       "    }\n",
       "\n",
       "    .dataframe thead th {\n",
       "        text-align: right;\n",
       "    }\n",
       "</style>\n",
       "<table border=\"1\" class=\"dataframe\">\n",
       "  <thead>\n",
       "    <tr style=\"text-align: right;\">\n",
       "      <th></th>\n",
       "      <th>MPG</th>\n",
       "      <th>Price</th>\n",
       "    </tr>\n",
       "  </thead>\n",
       "  <tbody>\n",
       "    <tr>\n",
       "      <th>MPG</th>\n",
       "      <td>1.000000</td>\n",
       "      <td>-0.645762</td>\n",
       "    </tr>\n",
       "    <tr>\n",
       "      <th>Price</th>\n",
       "      <td>-0.645762</td>\n",
       "      <td>1.000000</td>\n",
       "    </tr>\n",
       "  </tbody>\n",
       "</table>\n",
       "</div>"
      ],
      "text/plain": [
       "            MPG     Price\n",
       "MPG    1.000000 -0.645762\n",
       "Price -0.645762  1.000000"
      ]
     },
     "execution_count": 11,
     "metadata": {},
     "output_type": "execute_result"
    }
   ],
   "source": [
    "#Q12 For the cars dataset, is the relationship between miles per gallon and recommended retail price positive or negative?\n",
    "df.corr()"
   ]
  },
  {
   "cell_type": "code",
   "execution_count": null,
   "metadata": {},
   "outputs": [],
   "source": []
  }
 ],
 "metadata": {
  "kernelspec": {
   "display_name": "Python 3",
   "language": "python",
   "name": "python3"
  },
  "language_info": {
   "codemirror_mode": {
    "name": "ipython",
    "version": 3
   },
   "file_extension": ".py",
   "mimetype": "text/x-python",
   "name": "python",
   "nbconvert_exporter": "python",
   "pygments_lexer": "ipython3",
   "version": "3.7.6"
  }
 },
 "nbformat": 4,
 "nbformat_minor": 4
}
