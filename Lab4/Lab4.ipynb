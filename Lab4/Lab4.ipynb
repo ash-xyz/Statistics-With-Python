{
 "cells": [
  {
   "cell_type": "code",
   "execution_count": 2,
   "metadata": {},
   "outputs": [],
   "source": [
    "import numpy as np\n",
    "import pandas as pd\n",
    "import matplotlib.pyplot as plt\n",
    "import scipy.stats as stats"
   ]
  },
  {
   "cell_type": "code",
   "execution_count": 2,
   "metadata": {},
   "outputs": [
    {
     "data": {
      "text/plain": [
       "array([-7.96553753, -5.50553994, -7.41510447, -8.00159199, -6.08898288,\n",
       "       -7.9527211 , -2.60624354, -8.09863858, -7.31828089, -6.12463391,\n",
       "       -4.58199412, -4.32299911, -7.1789552 , -1.7911579 , -3.40280205,\n",
       "       -7.49298708, -5.33142509, -1.78822768, -7.08897318, -4.02482054,\n",
       "       -3.63371266, -6.87745342, -3.31609836, -3.99053216, -5.10481151,\n",
       "       -5.10507449, -1.1558913 , -7.70695778, -4.44647208, -5.84971175,\n",
       "       -9.47708531, -3.45355994, -6.174071  , -9.45927803, -4.41348378,\n",
       "       -4.68781126, -7.09641033, -4.18179039, -3.58546059, -2.05356858,\n",
       "       -5.76213481, -4.93942894, -6.44910988, -3.90655386, -2.09353594,\n",
       "       -3.42334086, -3.78457383, -4.57375676, -5.41844192, -6.40414707])"
      ]
     },
     "execution_count": 2,
     "metadata": {},
     "output_type": "execute_result"
    }
   ],
   "source": [
    "#Q1 If X is a normal random variable with mean -5 and variance 4, which of the following commands should you use to sample 50 items from X?\n",
    "stats.norm.rvs(loc=-5,scale=2,size=50)"
   ]
  },
  {
   "cell_type": "code",
   "execution_count": 9,
   "metadata": {},
   "outputs": [
    {
     "data": {
      "text/plain": [
       "(array([  1.,   1.,   3.,   3.,   4.,  12.,  17.,  35.,  38.,  72.,  83.,\n",
       "         81.,  87., 106.,  82.,  92.,  86.,  72.,  35.,  27.,  30.,  14.,\n",
       "          9.,   4.,   3.,   1.,   1.,   0.,   0.,   1.]),\n",
       " array([ 8.29649378,  8.42025913,  8.54402448,  8.66778983,  8.79155518,\n",
       "         8.91532053,  9.03908588,  9.16285123,  9.28661658,  9.41038193,\n",
       "         9.53414729,  9.65791264,  9.78167799,  9.90544334, 10.02920869,\n",
       "        10.15297404, 10.27673939, 10.40050474, 10.52427009, 10.64803544,\n",
       "        10.77180079, 10.89556615, 11.0193315 , 11.14309685, 11.2668622 ,\n",
       "        11.39062755, 11.5143929 , 11.63815825, 11.7619236 , 11.88568895,\n",
       "        12.0094543 ]),\n",
       " <a list of 30 Patch objects>)"
      ]
     },
     "execution_count": 9,
     "metadata": {},
     "output_type": "execute_result"
    },
    {
     "data": {
      "image/png": "[encoded data removed]",
      "text/plain": [
       "<Figure size 432x288 with 1 Axes>"
      ]
     },
     "metadata": {
      "needs_background": "light"
     },
     "output_type": "display_data"
    }
   ],
   "source": [
    "#Q2 Consider the histogram you created in Exercise 1. How does the shape of the histogram change if you increase the standard deviation?\n",
    "sample=stats.norm.rvs(loc=10,scale=0.5,size=1000)\n",
    "plt.hist(sample,bins = 30)"
   ]
  },
  {
   "cell_type": "code",
   "execution_count": 15,
   "metadata": {},
   "outputs": [
    {
     "data": {
      "text/plain": [
       "0.9169737663175368"
      ]
     },
     "execution_count": 15,
     "metadata": {},
     "output_type": "execute_result"
    }
   ],
   "source": [
    "#Q3 If X is a standard normal random variable N(0,1), what is P(X<1.385)? (Rounded to 4 decimal places)\n",
    "stats.norm.cdf(1.385,loc=0,scale=1)"
   ]
  },
  {
   "cell_type": "code",
   "execution_count": 17,
   "metadata": {},
   "outputs": [
    {
     "data": {
      "text/plain": [
       "0.7033292329655813"
      ]
     },
     "execution_count": 17,
     "metadata": {},
     "output_type": "execute_result"
    }
   ],
   "source": [
    "#Q4 If X is a standard normal random variable N(0,1), what is P(X>-0.534)? (Rounded to 4 decimal places)\n",
    "stats.norm.cdf(0.534,loc=0,scale=1)"
   ]
  },
  {
   "cell_type": "code",
   "execution_count": 19,
   "metadata": {},
   "outputs": [
    {
     "data": {
      "text/plain": [
       "0.8849303297782918"
      ]
     },
     "execution_count": 19,
     "metadata": {},
     "output_type": "execute_result"
    }
   ],
   "source": [
    "# Q5 If X is a normal random variable with mean 3 and standard deviation 4, what is P(X<7.8)? (Rounded to 4 decimal places)\n",
    "stats.norm.cdf(7.8,loc=3,scale=4)"
   ]
  },
  {
   "cell_type": "code",
   "execution_count": 20,
   "metadata": {},
   "outputs": [
    {
     "data": {
      "text/plain": [
       "0.3085375387259869"
      ]
     },
     "execution_count": 20,
     "metadata": {},
     "output_type": "execute_result"
    }
   ],
   "source": [
    "#Q6 The run time of a particular piece of Python code is normally distributed with mean 15 second and standard deviation 2 seconds. What is the probability that the code will take less than 14 seconds to run? (Rounded to 4 decimal places.)\n",
    "stats.norm.cdf(14,loc=15,scale=2)"
   ]
  },
  {
   "cell_type": "code",
   "execution_count": 5,
   "metadata": {},
   "outputs": [
    {
     "data": {
      "text/plain": [
       "1.4772498680518207"
      ]
     },
     "execution_count": 5,
     "metadata": {},
     "output_type": "execute_result"
    }
   ],
   "source": [
    "#Q7 The time taken to complete a test is normally distributed with mean 40 mins and standard deviation 5 minutes. What percentage of students complete the test in 40-50 minutes? (Rounded to 1 decimal place)\n",
    "1-stats.norm.cdf(40,loc=40,scale=5)+stats.norm.cdf(50,loc=40,scale=5)"
   ]
  },
  {
   "cell_type": "code",
   "execution_count": 33,
   "metadata": {},
   "outputs": [
    {
     "data": {
      "text/plain": [
       "array([ 2.21272372,  1.86301352,  2.48422742,  0.44839875,  1.89019545,\n",
       "        0.21566811,  0.99067806,  0.01015684,  3.05927248,  0.06014921,\n",
       "        0.30486333,  3.44252728,  4.01352069,  0.09790881,  5.44718245,\n",
       "        0.30725488,  0.91731781,  1.06818343,  0.17918285,  1.39163509,\n",
       "        6.32933862,  0.44323632,  3.19906172,  1.37479519,  1.75371464,\n",
       "        0.53506517,  4.3797775 ,  2.50707751,  0.64247692,  0.92048587,\n",
       "        2.1079585 ,  1.73651847,  0.47142101,  1.75496015,  0.2089748 ,\n",
       "        2.0164893 ,  0.19309671,  3.16753759,  1.68696023,  0.43946263,\n",
       "        1.17939095,  3.06698943, 10.09493269,  1.9398292 ,  1.134005  ,\n",
       "        0.53188719,  1.65064831,  1.98436135,  1.75414709,  0.41725955])"
      ]
     },
     "execution_count": 33,
     "metadata": {},
     "output_type": "execute_result"
    }
   ],
   "source": [
    "#Q8 If Y is an exponential random variable with mean 2, which of the following commands should you use to sample 50 items from Y?\n",
    "stats.expon.rvs(scale=2,size=50)"
   ]
  },
  {
   "cell_type": "code",
   "execution_count": 34,
   "metadata": {},
   "outputs": [
    {
     "data": {
      "text/plain": [
       "0.7134952031398099"
      ]
     },
     "execution_count": 34,
     "metadata": {},
     "output_type": "execute_result"
    }
   ],
   "source": [
    "#Q9 The amount of time a doctor spends with each patient is exponentially distributed with a mean of 8 minutes. What is the probability of them spending less than 10 minutes with their next patient? (Rounded to 4 decimal places.)\n",
    "stats.expon.cdf(10,scale=8)"
   ]
  },
  {
   "cell_type": "code",
   "execution_count": 15,
   "metadata": {},
   "outputs": [
    {
     "data": {
      "text/plain": [
       "0.08208499862389884"
      ]
     },
     "execution_count": 15,
     "metadata": {},
     "output_type": "execute_result"
    }
   ],
   "source": [
    "#Q10 The amount of time students spent studying for an exam is exponentially distributed with a mean of 20 hours. What proportion of students spent more than 50 hours studying for the exam?\n",
    "1-stats.expon.cdf(50,scale=20)"
   ]
  },
  {
   "cell_type": "code",
   "execution_count": 4,
   "metadata": {},
   "outputs": [
    {
     "name": "stdout",
     "output_type": "stream",
     "text": [
      "1.3589165547517141 1.4010834452482857\n"
     ]
    }
   ],
   "source": [
    "#Q11 A sample of petrol prices was taken at 70 petrol stations across the Ireland. The average price per litre was found to be €1.38, with a standard deviation of €0.09. What is the 95% confidence interval estimate for the mean price of petrol in Ireland?\n",
    "xbar= 1.38\n",
    "s=0.09\n",
    "n=70\n",
    "confidence=0.95\n",
    "z=stats.norm.ppf((1+confidence)/2)\n",
    "\n",
    "lower=xbar-z*s/np.sqrt(n)\n",
    "upper=xbar+z*s/np.sqrt(n)\n",
    "print(lower,upper)"
   ]
  },
  {
   "cell_type": "code",
   "execution_count": 13,
   "metadata": {},
   "outputs": [
    {
     "data": {
      "text/plain": [
       "[9.69, 10.4]"
      ]
     },
     "execution_count": 13,
     "metadata": {},
     "output_type": "execute_result"
    }
   ],
   "source": [
    "#Q12 What is the 99% confidence interval for the 3rd column ('var3') in the dataset 'variables.csv'?\n",
    "data=pd.read_csv('variables.csv')\n",
    "xbar = np.mean(data['var3'])\n",
    "s =  np.std(data['var3'])\n",
    "n = len(data['var3'])\n",
    "confidence = 0.95\n",
    "z=stats.norm.ppf((1+confidence)/2)\n",
    "\n",
    "lower=xbar-z*s/np.sqrt(n)\n",
    "upper=xbar+z*s/np.sqrt(n)\n",
    "[round(lower,2),round(upper,2)]"
   ]
  },
  {
   "cell_type": "code",
   "execution_count": null,
   "metadata": {},
   "outputs": [],
   "source": []
  }
 ],
 "metadata": {
  "kernelspec": {
   "display_name": "Python 3",
   "language": "python",
   "name": "python3"
  },
  "language_info": {
   "codemirror_mode": {
    "name": "ipython",
    "version": 3
   },
   "file_extension": ".py",
   "mimetype": "text/x-python",
   "name": "python",
   "nbconvert_exporter": "python",
   "pygments_lexer": "ipython3",
   "version": "3.7.6"
  }
 },
 "nbformat": 4,
 "nbformat_minor": 4
}
