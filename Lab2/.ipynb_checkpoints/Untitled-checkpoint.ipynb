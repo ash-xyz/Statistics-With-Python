{
 "cells": [
  {
   "cell_type": "code",
   "execution_count": 1,
   "metadata": {},
   "outputs": [],
   "source": [
    "import numpy as np\n",
    "import pandas as pd\n",
    "import matplotlib.pyplot as plt"
   ]
  },
  {
   "cell_type": "code",
   "execution_count": 2,
   "metadata": {},
   "outputs": [
    {
     "data": {
      "text/plain": [
       "array([0, 0, 0, 1, 1, 1, 2, 2, 2, 3, 3, 3])"
      ]
     },
     "execution_count": 2,
     "metadata": {},
     "output_type": "execute_result"
    }
   ],
   "source": [
    "#Q1 ~ The command 'np.repeat([0,1,2,3], 3)' repeats [0,1,2,3] 3 times, returning the array [0,0,0,1,1,1,2,2,2,3,3,3]\n",
    "np.repeat([0,1,2,3], 3)"
   ]
  },
  {
   "cell_type": "code",
   "execution_count": 3,
   "metadata": {},
   "outputs": [
    {
     "data": {
      "text/plain": [
       "1"
      ]
     },
     "execution_count": 3,
     "metadata": {},
     "output_type": "execute_result"
    }
   ],
   "source": [
    "#Q2 ~ When rolling two dice, what is the probability of the total being 12?\n",
    "numberOf12s = 0\n",
    "for dice1 in range(1,7):\n",
    "    for dice2 in range(1,7):\n",
    "        if dice1+dice2 == 12:\n",
    "            numberOf12s+=1\n",
    "numberOf12s"
   ]
  },
  {
   "cell_type": "code",
   "execution_count": 4,
   "metadata": {},
   "outputs": [
    {
     "data": {
      "text/plain": [
       "(array([164., 161., 162., 176., 177., 160.]),\n",
       " array([1.        , 1.83333333, 2.66666667, 3.5       , 4.33333333,\n",
       "        5.16666667, 6.        ]),\n",
       " <a list of 6 Patch objects>)"
      ]
     },
     "execution_count": 4,
     "metadata": {},
     "output_type": "execute_result"
    },
    {
     "data": {
      "image/png": "[encoded data removed]",
      "text/plain": [
       "<Figure size 432x288 with 1 Axes>"
      ]
     },
     "metadata": {
      "needs_background": "light"
     },
     "output_type": "display_data"
    }
   ],
   "source": [
    "#Q3 ~ Simulate rolling the dice 1000 times, and look at the distribution of dice totals. Simulate 1000 rolls again, and look at the distribution. What do you observe? (Do not set a random seed)\n",
    "diceSimulation1 = [np.random.randint(1, 7) for _ in range(1000)]\n",
    "diceSimulation2 = [np.random.randint(1, 7) for _ in range(1000)]\n",
    "plt.hist(diceSimulation1, bins = 6)\n",
    "plt.hist(diceSimulation2, bins = 6)"
   ]
  },
  {
   "cell_type": "code",
   "execution_count": 10,
   "metadata": {},
   "outputs": [
    {
     "data": {
      "text/plain": [
       "(array([ 269.,  557.,  835., 1121., 1357., 1709., 1444., 1075.,  802.,\n",
       "         561.,  270.]),\n",
       " array([ 2.        ,  2.90909091,  3.81818182,  4.72727273,  5.63636364,\n",
       "         6.54545455,  7.45454545,  8.36363636,  9.27272727, 10.18181818,\n",
       "        11.09090909, 12.        ]),\n",
       " <a list of 11 Patch objects>)"
      ]
     },
     "execution_count": 10,
     "metadata": {},
     "output_type": "execute_result"
    },
    {
     "data": {
      "image/png": "[encoded data removed]",
      "text/plain": [
       "<Figure size 432x288 with 1 Axes>"
      ]
     },
     "metadata": {
      "needs_background": "light"
     },
     "output_type": "display_data"
    }
   ],
   "source": [
    "#Q4 ~ Simulate rolling the dice 10000 times and create a histogram of the results. Which of the following best describes your plot?\n",
    "diceSimulation = [(np.random.randint(1, 7)+np.random.randint(1,7)) for _ in range(10000)]\n",
    "plt.hist(diceSimulation, bins = 11)"
   ]
  },
  {
   "cell_type": "code",
   "execution_count": 11,
   "metadata": {},
   "outputs": [
    {
     "data": {
      "text/plain": [
       "(array([ 262.,  503.,  837., 1111., 1408., 1666., 1434., 1138.,  819.,\n",
       "         544.,  278.]),\n",
       " array([ 2.        ,  2.90909091,  3.81818182,  4.72727273,  5.63636364,\n",
       "         6.54545455,  7.45454545,  8.36363636,  9.27272727, 10.18181818,\n",
       "        11.09090909, 12.        ]),\n",
       " <a list of 11 Patch objects>)"
      ]
     },
     "execution_count": 11,
     "metadata": {},
     "output_type": "execute_result"
    },
    {
     "data": {
      "image/png": "[encoded data removed]",
      "text/plain": [
       "<Figure size 432x288 with 1 Axes>"
      ]
     },
     "metadata": {
      "needs_background": "light"
     },
     "output_type": "display_data"
    }
   ],
   "source": [
    "#Q5 ~ Set the seed value to 369 and simulate rolling the dice. What is the total of the two dice?\n",
    "\n",
    "np.random.seed(369)\n",
    "diceSimulation = [(np.random.randint(1, 7)+np.random.randint(1,7)) for _ in range(10000)]\n",
    "plt.hist(diceSimulation, bins = 11)"
   ]
  },
  {
   "cell_type": "code",
   "execution_count": 18,
   "metadata": {},
   "outputs": [
    {
     "name": "stdout",
     "output_type": "stream",
     "text": [
      "6\n"
     ]
    }
   ],
   "source": [
    "#Set the seed value to 369 and simulate rolling the dice. What is the total of the two dice?\n",
    "np.random.seed(369)\n",
    "red = np.repeat(np.arange(1,7), 6)\n",
    "blue = np.tile(np.arange(1,7), 6)\n",
    "dice_roll = pd.DataFrame({'Red':red,'Blue':blue,'Total':red+blue})\n",
    "print(np.random.choice(dice_roll.Total))"
   ]
  },
  {
   "cell_type": "code",
   "execution_count": 22,
   "metadata": {},
   "outputs": [
    {
     "data": {
      "text/plain": [
       "862"
      ]
     },
     "execution_count": 22,
     "metadata": {},
     "output_type": "execute_result"
    }
   ],
   "source": [
    "#Q6 ~ Simulate rolling the dice 5000 times (with the seed set to 101). How many times was the total equal to 7?\n",
    "np.random.seed(101)\n",
    "red = np.repeat(np.arange(1,7), 6)\n",
    "blue = np.tile(np.arange(1,7), 6)\n",
    "dice_roll = pd.DataFrame({'Red':red,'Blue':blue,'Total':red+blue})\n",
    "count = 0;\n",
    "for i in range(5000):\n",
    "    if(np.random.choice(dice_roll.Total) == 7):\n",
    "        count+=1\n",
    "count"
   ]
  },
  {
   "cell_type": "code",
   "execution_count": 24,
   "metadata": {},
   "outputs": [
    {
     "data": {
      "text/plain": [
       "120"
      ]
     },
     "execution_count": 24,
     "metadata": {},
     "output_type": "execute_result"
    }
   ],
   "source": [
    "#Q7 ~ Simulate rolling the dice 5000 times (with the seed set to 101). How many times was the total equal to 12?\n",
    "np.random.seed(101)\n",
    "red = np.repeat(np.arange(1,7), 6)\n",
    "blue = np.tile(np.arange(1,7), 6)\n",
    "dice_roll = pd.DataFrame({'Red':red,'Blue':blue,'Total':red+blue})\n",
    "count = 0;\n",
    "for i in range(5000):\n",
    "    if(np.random.choice(dice_roll.Total) == 12):\n",
    "        count+=1\n",
    "count"
   ]
  },
  {
   "cell_type": "code",
   "execution_count": 25,
   "metadata": {},
   "outputs": [
    {
     "name": "stdout",
     "output_type": "stream",
     "text": [
      "0\n",
      "1\n",
      "2\n",
      "3\n",
      "4\n"
     ]
    }
   ],
   "source": [
    "#Q8 ~ What does the command 'for i in range(0,5):'  do?\n",
    "for i in range(0,5):\n",
    "    print(i)"
   ]
  },
  {
   "cell_type": "code",
   "execution_count": 26,
   "metadata": {},
   "outputs": [
    {
     "name": "stdout",
     "output_type": "stream",
     "text": [
      "140\n"
     ]
    }
   ],
   "source": [
    "#Q9 ~ If you roll 4 dice at the same time and add up the numbers on each dice, how many ways are there to get 15?\n",
    "count = 0\n",
    "for i in range(1,7):\n",
    "    for j in range(1,7):\n",
    "        for k in range(1,7):\n",
    "            for l in range(1,7):\n",
    "                if(i + j + k + l == 15):\n",
    "                    count +=1\n",
    "print(count)"
   ]
  },
  {
   "cell_type": "code",
   "execution_count": 48,
   "metadata": {},
   "outputs": [
    {
     "data": {
      "text/plain": [
       "(array([  44.,  229.,  697., 1424., 2030., 2173., 1815., 1035.,  456.,\n",
       "          97.]),\n",
       " array([ 4.,  6.,  8., 10., 12., 14., 16., 18., 20., 22., 24.]),\n",
       " <a list of 10 Patch objects>)"
      ]
     },
     "execution_count": 48,
     "metadata": {},
     "output_type": "execute_result"
    },
    {
     "data": {
      "image/png": "[encoded data removed]",
      "text/plain": [
       "<Figure size 432x288 with 1 Axes>"
      ]
     },
     "metadata": {
      "needs_background": "light"
     },
     "output_type": "display_data"
    }
   ],
   "source": [
    "#Q10 ~ Simulate rolling 4 dice 10,000 times and create a histogram of the totals. Is the distribution roughly symmetric?\n",
    "four_dice = np.zeros([pow(6,4),5])\n",
    "n = 0\n",
    "for i in range(1,7):\n",
    "    for j in range(1,7):\n",
    "        for k in range(1,7):\n",
    "            for l in range(1,7):\n",
    "                four_dice[n,:] = [i+j+k+l]\n",
    "                n +=1\n",
    "four_dice_df = pd.DataFrame(four_dice,columns=('1','2','3','4','Total'))\n",
    "dice_simulation = [np.random.choice(four_dice_df.Total) for _ in range(10000)]\n",
    "plt.hist(dice_simulation)"
   ]
  },
  {
   "cell_type": "code",
   "execution_count": null,
   "metadata": {},
   "outputs": [],
   "source": []
  },
  {
   "cell_type": "code",
   "execution_count": null,
   "metadata": {},
   "outputs": [],
   "source": []
  }
 ],
 "metadata": {
  "kernelspec": {
   "display_name": "Python 3",
   "language": "python",
   "name": "python3"
  },
  "language_info": {
   "codemirror_mode": {
    "name": "ipython",
    "version": 3
   },
   "file_extension": ".py",
   "mimetype": "text/x-python",
   "name": "python",
   "nbconvert_exporter": "python",
   "pygments_lexer": "ipython3",
   "version": "3.7.4"
  }
 },
 "nbformat": 4,
 "nbformat_minor": 2
}
