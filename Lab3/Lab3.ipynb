{
 "cells": [
  {
   "cell_type": "code",
   "execution_count": 2,
   "metadata": {},
   "outputs": [],
   "source": [
    "import scipy.stats as stats\n"
   ]
  },
  {
   "cell_type": "code",
   "execution_count": 18,
   "metadata": {},
   "outputs": [
    {
     "data": {
      "text/plain": [
       "18"
      ]
     },
     "execution_count": 18,
     "metadata": {},
     "output_type": "execute_result"
    }
   ],
   "source": [
    "#Q1 ~ The command 'stats.binom.rvs(20, 0.4, 12)' simulates an experiment with 20 trials, where the probability of each trial being a success is 0.4, 12 times, and tells you how many successes there were on each run of the experiment.\n",
    "stats.binom.rvs(20, 0.4, 12)"
   ]
  },
  {
   "cell_type": "code",
   "execution_count": 25,
   "metadata": {},
   "outputs": [
    {
     "data": {
      "text/plain": [
       "0.014089975032817253"
      ]
     },
     "execution_count": 25,
     "metadata": {},
     "output_type": "execute_result"
    }
   ],
   "source": [
    "#Q2 ~ If you toss a regular coin 46 times, what is the probability that you get heads on 30 of the 46 coin tosses? (Rounded to 3 decimal places)\n",
    "stats.binom.pmf(30,n = 46, p = 0.5)"
   ]
  },
  {
   "cell_type": "code",
   "execution_count": 26,
   "metadata": {},
   "outputs": [
    {
     "data": {
      "text/plain": [
       "0.8154192651691057"
      ]
     },
     "execution_count": 26,
     "metadata": {},
     "output_type": "execute_result"
    }
   ],
   "source": [
    "#Q3 ~ If you toss a regular coin 150 times, what is the probability that you get heads on 80 or less of the 150 coin tosses? (Rounded to 3 decimal places)\n",
    "stats.binom.cdf(80,n=150, p =0.5)"
   ]
  },
  {
   "cell_type": "code",
   "execution_count": 28,
   "metadata": {},
   "outputs": [
    {
     "data": {
      "text/plain": [
       "0.3435746093843268"
      ]
     },
     "execution_count": 28,
     "metadata": {},
     "output_type": "execute_result"
    }
   ],
   "source": [
    "#Q4 ~ If you toss a regular coin 154 times, what is the probability that you get heads on more than 79 of the 154 coin tosses? (Rounded to 3 decimal places)\n",
    "1 - stats.binom.cdf(79, n= 154, p =0.5)"
   ]
  },
  {
   "cell_type": "code",
   "execution_count": 29,
   "metadata": {},
   "outputs": [
    {
     "data": {
      "text/plain": [
       "0.4643571936985207"
      ]
     },
     "execution_count": 29,
     "metadata": {},
     "output_type": "execute_result"
    }
   ],
   "source": [
    "#Q5 ~ Now suppose the coin is biased, such that the probability of getting heads is 0.8. If you toss the coin 125 times, that is the probability that you observe heads more than 100 times? (Rounded to 3 decimal places)\n",
    "1 - stats.binom.cdf(100, n = 125, p = 0.8)"
   ]
  },
  {
   "cell_type": "code",
   "execution_count": 31,
   "metadata": {},
   "outputs": [
    {
     "data": {
      "text/plain": [
       "0.1495598239295717"
      ]
     },
     "execution_count": 31,
     "metadata": {},
     "output_type": "execute_result"
    }
   ],
   "source": [
    "#Q6 ~ Suppose we randomly select 5 cards without replacement from an ordinary deck of playing cards (52 cards, half red and half black). What is the probability of getting exactly 1 black card? (Rounded to 3 decimal places)\n",
    "stats.hypergeom.pmf(1,52,26,5)"
   ]
  },
  {
   "cell_type": "code",
   "execution_count": 32,
   "metadata": {},
   "outputs": [
    {
     "data": {
      "text/plain": [
       "0.32513005202080936"
      ]
     },
     "execution_count": 32,
     "metadata": {},
     "output_type": "execute_result"
    }
   ],
   "source": [
    "#Q7 ~ Suppose we randomly select 5 cards without replacement from an ordinary deck of playing cards (52 cards, half red and half black). What is the probability of getting exactly 2 black cards? (Rounded to 3 decimal places)\n",
    "stats.hypergeom.pmf(2,52,26,5)"
   ]
  },
  {
   "cell_type": "code",
   "execution_count": 9,
   "metadata": {},
   "outputs": [
    {
     "data": {
      "text/plain": [
       "0.22404180765538775"
      ]
     },
     "execution_count": 9,
     "metadata": {},
     "output_type": "execute_result"
    }
   ],
   "source": [
    "#Q8 ~ Assume that the number of storms to hit Ireland in a given year follows a Poisson distribution. If the average number of storms per year is 3, what is the probability that there will be 2 storms in a particular year? (Rounded to 3 decimal places)\n",
    "stats.poisson.pmf(2,3)"
   ]
  },
  {
   "cell_type": "code",
   "execution_count": 11,
   "metadata": {},
   "outputs": [
    {
     "data": {
      "text/plain": [
       "0.6766764161830634"
      ]
     },
     "execution_count": 11,
     "metadata": {},
     "output_type": "execute_result"
    }
   ],
   "source": [
    "#Q9 ~ Suppose a fast food restaurant can expect two customers every 3 minutes, on average. What is the probability that 2 or less patrons will enter the restaurant in a 3 minute period? (Rounded to 3 decimal places)\n",
    "stats.poisson.cdf(2,2)"
   ]
  },
  {
   "cell_type": "code",
   "execution_count": 13,
   "metadata": {},
   "outputs": [
    {
     "data": {
      "text/plain": [
       "0.992368100362485"
      ]
     },
     "execution_count": 13,
     "metadata": {},
     "output_type": "execute_result"
    }
   ],
   "source": [
    "#Suppose the average number of lions seen on a 1-day safari is 5. If you go on a 3-day safari, what is the probability of seeing more than 6 lions? (Rounded to 3 decimal places)\n",
    "1 - stats.poisson.cdf(6,15)"
   ]
  },
  {
   "cell_type": "code",
   "execution_count": null,
   "metadata": {},
   "outputs": [],
   "source": []
  }
 ],
 "metadata": {
  "kernelspec": {
   "display_name": "Python 3",
   "language": "python",
   "name": "python3"
  },
  "language_info": {
   "codemirror_mode": {
    "name": "ipython",
    "version": 3
   },
   "file_extension": ".py",
   "mimetype": "text/x-python",
   "name": "python",
   "nbconvert_exporter": "python",
   "pygments_lexer": "ipython3",
   "version": "3.7.4"
  }
 },
 "nbformat": 4,
 "nbformat_minor": 2
}
